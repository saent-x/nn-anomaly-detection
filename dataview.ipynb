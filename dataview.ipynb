{
 "cells": [
  {
   "cell_type": "code",
   "id": "initial_id",
   "metadata": {
    "collapsed": true,
    "ExecuteTime": {
     "end_time": "2024-11-06T20:31:19.362535Z",
     "start_time": "2024-11-06T20:16:38.035396Z"
    }
   },
   "source": [
    "from app import PrepareTrainAndTestDS\n",
    "\n",
    "train_ds, val_ds, features = PrepareTrainAndTestDS(\"data/full_processed_can_data.csv\")"
   ],
   "outputs": [
    {
     "name": "stderr",
     "output_type": "stream",
     "text": [
      "2024-11-06 20:16:39.597919: I external/local_xla/xla/tsl/cuda/cudart_stub.cc:32] Could not find cuda drivers on your machine, GPU will not be used.\n",
      "2024-11-06 20:16:39.601171: I external/local_xla/xla/tsl/cuda/cudart_stub.cc:32] Could not find cuda drivers on your machine, GPU will not be used.\n",
      "2024-11-06 20:16:39.612511: E external/local_xla/xla/stream_executor/cuda/cuda_fft.cc:477] Unable to register cuFFT factory: Attempting to register factory for plugin cuFFT when one has already been registered\n",
      "WARNING: All log messages before absl::InitializeLog() is called are written to STDERR\n",
      "E0000 00:00:1730924199.630406  119446 cuda_dnn.cc:8310] Unable to register cuDNN factory: Attempting to register factory for plugin cuDNN when one has already been registered\n",
      "E0000 00:00:1730924199.635567  119446 cuda_blas.cc:1418] Unable to register cuBLAS factory: Attempting to register factory for plugin cuBLAS when one has already been registered\n",
      "2024-11-06 20:16:39.652249: I tensorflow/core/platform/cpu_feature_guard.cc:210] This TensorFlow binary is optimized to use available CPU instructions in performance-critical operations.\n",
      "To enable the following instructions: AVX2 FMA, in other operations, rebuild TensorFlow with the appropriate compiler flags.\n"
     ]
    },
    {
     "name": "stdout",
     "output_type": "stream",
     "text": [
      "Using 23882873 samples for training and 5970718 for validation\n"
     ]
    },
    {
     "name": "stderr",
     "output_type": "stream",
     "text": [
      "2024-11-06 20:17:07.745273: E external/local_xla/xla/stream_executor/cuda/cuda_driver.cc:152] failed call to cuInit: INTERNAL: CUDA error: Failed call to cuInit: UNKNOWN ERROR (303)\n"
     ]
    },
    {
     "name": "stdout",
     "output_type": "stream",
     "text": [
      "Input: {'arbitration_id': <tf.Tensor: shape=(), dtype=int64, numpy=451>, 'df1': <tf.Tensor: shape=(), dtype=int64, numpy=6>, 'df2': <tf.Tensor: shape=(), dtype=int64, numpy=176>, 'df3': <tf.Tensor: shape=(), dtype=int64, numpy=6>, 'df4': <tf.Tensor: shape=(), dtype=int64, numpy=179>, 'df5': <tf.Tensor: shape=(), dtype=int64, numpy=0>, 'df6': <tf.Tensor: shape=(), dtype=int64, numpy=0>, 'df7': <tf.Tensor: shape=(), dtype=int64, numpy=0>, 'df8': <tf.Tensor: shape=(), dtype=int64, numpy=0>, 'time_interval': <tf.Tensor: shape=(), dtype=float64, numpy=8.1062316894e-06>}\n",
      "Target: tf.Tensor(0, shape=(), dtype=int64)\n"
     ]
    },
    {
     "name": "stderr",
     "output_type": "stream",
     "text": [
      "2024-11-06 20:17:10.455491: I tensorflow/core/framework/local_rendezvous.cc:405] Local rendezvous is aborting with status: OUT_OF_RANGE: End of sequence\n"
     ]
    },
    {
     "ename": "KeyboardInterrupt",
     "evalue": "",
     "output_type": "error",
     "traceback": [
      "\u001B[0;31m---------------------------------------------------------------------------\u001B[0m",
      "\u001B[0;31mKeyboardInterrupt\u001B[0m                         Traceback (most recent call last)",
      "Cell \u001B[0;32mIn[1], line 3\u001B[0m\n\u001B[1;32m      1\u001B[0m \u001B[38;5;28;01mfrom\u001B[39;00m \u001B[38;5;21;01mapp\u001B[39;00m \u001B[38;5;28;01mimport\u001B[39;00m PrepareTrainAndTestDS\n\u001B[0;32m----> 3\u001B[0m train_ds, val_ds, features \u001B[38;5;241m=\u001B[39m \u001B[43mPrepareTrainAndTestDS\u001B[49m\u001B[43m(\u001B[49m\u001B[38;5;124;43m\"\u001B[39;49m\u001B[38;5;124;43mdata/full_processed_can_data.csv\u001B[39;49m\u001B[38;5;124;43m\"\u001B[39;49m\u001B[43m)\u001B[49m\n",
      "File \u001B[0;32m~/PycharmProjects/nn-anomaly-detection/app.py:79\u001B[0m, in \u001B[0;36mPrepareTrainAndTestDS\u001B[0;34m(filepath)\u001B[0m\n\u001B[1;32m     76\u001B[0m df8 \u001B[38;5;241m=\u001B[39m keras\u001B[38;5;241m.\u001B[39mInput(shape\u001B[38;5;241m=\u001B[39m(\u001B[38;5;241m1\u001B[39m,), name\u001B[38;5;241m=\u001B[39m\u001B[38;5;124m'\u001B[39m\u001B[38;5;124mdf8\u001B[39m\u001B[38;5;124m'\u001B[39m)\n\u001B[1;32m     77\u001B[0m time_interval \u001B[38;5;241m=\u001B[39m keras\u001B[38;5;241m.\u001B[39mInput(shape\u001B[38;5;241m=\u001B[39m(\u001B[38;5;241m1\u001B[39m,), name\u001B[38;5;241m=\u001B[39m\u001B[38;5;124m'\u001B[39m\u001B[38;5;124mtime_interval\u001B[39m\u001B[38;5;124m'\u001B[39m),\n\u001B[0;32m---> 79\u001B[0m arbitration_id_norm \u001B[38;5;241m=\u001B[39m \u001B[43mEncodeNumericalFeature\u001B[49m\u001B[43m(\u001B[49m\u001B[43marbitration_id\u001B[49m\u001B[43m,\u001B[49m\u001B[43m \u001B[49m\u001B[38;5;124;43m\"\u001B[39;49m\u001B[38;5;124;43marbitration_id\u001B[39;49m\u001B[38;5;124;43m\"\u001B[39;49m\u001B[43m,\u001B[49m\u001B[43m \u001B[49m\u001B[43mtrain_ds\u001B[49m\u001B[43m)\u001B[49m\n\u001B[1;32m     80\u001B[0m df1_norm \u001B[38;5;241m=\u001B[39m EncodeNumericalFeature(df1, \u001B[38;5;124m\"\u001B[39m\u001B[38;5;124mdf1\u001B[39m\u001B[38;5;124m\"\u001B[39m, train_ds)\n\u001B[1;32m     81\u001B[0m df2_norm \u001B[38;5;241m=\u001B[39m EncodeNumericalFeature(df2, \u001B[38;5;124m\"\u001B[39m\u001B[38;5;124mdf2\u001B[39m\u001B[38;5;124m\"\u001B[39m, train_ds)\n",
      "File \u001B[0;32m~/PycharmProjects/nn-anomaly-detection/app.py:39\u001B[0m, in \u001B[0;36mEncodeNumericalFeature\u001B[0;34m(feature, name, dataset)\u001B[0m\n\u001B[1;32m     36\u001B[0m feature_ds \u001B[38;5;241m=\u001B[39m feature_ds\u001B[38;5;241m.\u001B[39mmap(\u001B[38;5;28;01mlambda\u001B[39;00m x: tf\u001B[38;5;241m.\u001B[39mexpand_dims(x, \u001B[38;5;241m-\u001B[39m\u001B[38;5;241m1\u001B[39m))\n\u001B[1;32m     38\u001B[0m \u001B[38;5;66;03m# Learn the statistics of the data\u001B[39;00m\n\u001B[0;32m---> 39\u001B[0m \u001B[43mnormalizer\u001B[49m\u001B[38;5;241;43m.\u001B[39;49m\u001B[43madapt\u001B[49m\u001B[43m(\u001B[49m\u001B[43mfeature_ds\u001B[49m\u001B[43m)\u001B[49m\n\u001B[1;32m     41\u001B[0m \u001B[38;5;66;03m# Normalize the input feature\u001B[39;00m\n\u001B[1;32m     42\u001B[0m encoded_feature \u001B[38;5;241m=\u001B[39m normalizer(feature)\n",
      "File \u001B[0;32m~/PycharmProjects/nn-anomaly-detection/.venv/lib/python3.10/site-packages/keras/src/layers/preprocessing/normalization.py:255\u001B[0m, in \u001B[0;36mNormalization.adapt\u001B[0;34m(self, data)\u001B[0m\n\u001B[1;32m    251\u001B[0m \u001B[38;5;28;01mfor\u001B[39;00m batch \u001B[38;5;129;01min\u001B[39;00m data:\n\u001B[1;32m    252\u001B[0m     batch \u001B[38;5;241m=\u001B[39m backend\u001B[38;5;241m.\u001B[39mconvert_to_tensor(\n\u001B[1;32m    253\u001B[0m         batch, dtype\u001B[38;5;241m=\u001B[39m\u001B[38;5;28mself\u001B[39m\u001B[38;5;241m.\u001B[39mcompute_dtype\n\u001B[1;32m    254\u001B[0m     )\n\u001B[0;32m--> 255\u001B[0m     batch_mean \u001B[38;5;241m=\u001B[39m \u001B[43mops\u001B[49m\u001B[38;5;241;43m.\u001B[39;49m\u001B[43mmean\u001B[49m\u001B[43m(\u001B[49m\u001B[43mbatch\u001B[49m\u001B[43m,\u001B[49m\u001B[43m \u001B[49m\u001B[43maxis\u001B[49m\u001B[38;5;241;43m=\u001B[39;49m\u001B[38;5;28;43mself\u001B[39;49m\u001B[38;5;241;43m.\u001B[39;49m\u001B[43m_reduce_axis\u001B[49m\u001B[43m)\u001B[49m\n\u001B[1;32m    256\u001B[0m     batch_var \u001B[38;5;241m=\u001B[39m ops\u001B[38;5;241m.\u001B[39mvar(batch, axis\u001B[38;5;241m=\u001B[39m\u001B[38;5;28mself\u001B[39m\u001B[38;5;241m.\u001B[39m_reduce_axis)\n\u001B[1;32m    257\u001B[0m     \u001B[38;5;28;01mif\u001B[39;00m \u001B[38;5;28mself\u001B[39m\u001B[38;5;241m.\u001B[39m_reduce_axis:\n",
      "File \u001B[0;32m~/PycharmProjects/nn-anomaly-detection/.venv/lib/python3.10/site-packages/keras/src/ops/numpy.py:6182\u001B[0m, in \u001B[0;36mmean\u001B[0;34m(x, axis, keepdims)\u001B[0m\n\u001B[1;32m   6180\u001B[0m \u001B[38;5;28;01mif\u001B[39;00m any_symbolic_tensors((x,)):\n\u001B[1;32m   6181\u001B[0m     \u001B[38;5;28;01mreturn\u001B[39;00m Mean(axis\u001B[38;5;241m=\u001B[39maxis, keepdims\u001B[38;5;241m=\u001B[39mkeepdims)\u001B[38;5;241m.\u001B[39msymbolic_call(x)\n\u001B[0;32m-> 6182\u001B[0m \u001B[38;5;28;01mreturn\u001B[39;00m \u001B[43mbackend\u001B[49m\u001B[38;5;241;43m.\u001B[39;49m\u001B[43mnumpy\u001B[49m\u001B[38;5;241;43m.\u001B[39;49m\u001B[43mmean\u001B[49m\u001B[43m(\u001B[49m\u001B[43mx\u001B[49m\u001B[43m,\u001B[49m\u001B[43m \u001B[49m\u001B[43maxis\u001B[49m\u001B[38;5;241;43m=\u001B[39;49m\u001B[43maxis\u001B[49m\u001B[43m,\u001B[49m\u001B[43m \u001B[49m\u001B[43mkeepdims\u001B[49m\u001B[38;5;241;43m=\u001B[39;49m\u001B[43mkeepdims\u001B[49m\u001B[43m)\u001B[49m\n",
      "File \u001B[0;32m~/PycharmProjects/nn-anomaly-detection/.venv/lib/python3.10/site-packages/keras/src/backend/tensorflow/numpy.py:573\u001B[0m, in \u001B[0;36mmean\u001B[0;34m(x, axis, keepdims)\u001B[0m\n\u001B[1;32m    571\u001B[0m \u001B[38;5;28;01melse\u001B[39;00m:\n\u001B[1;32m    572\u001B[0m     result_dtype \u001B[38;5;241m=\u001B[39m ori_dtype\n\u001B[0;32m--> 573\u001B[0m output \u001B[38;5;241m=\u001B[39m \u001B[43mtf\u001B[49m\u001B[38;5;241;43m.\u001B[39;49m\u001B[43mreduce_mean\u001B[49m\u001B[43m(\u001B[49m\n\u001B[1;32m    574\u001B[0m \u001B[43m    \u001B[49m\u001B[43mtf\u001B[49m\u001B[38;5;241;43m.\u001B[39;49m\u001B[43mcast\u001B[49m\u001B[43m(\u001B[49m\u001B[43mx\u001B[49m\u001B[43m,\u001B[49m\u001B[43m \u001B[49m\u001B[43mcompute_dtype\u001B[49m\u001B[43m)\u001B[49m\u001B[43m,\u001B[49m\u001B[43m \u001B[49m\u001B[43maxis\u001B[49m\u001B[38;5;241;43m=\u001B[39;49m\u001B[43maxis\u001B[49m\u001B[43m,\u001B[49m\u001B[43m \u001B[49m\u001B[43mkeepdims\u001B[49m\u001B[38;5;241;43m=\u001B[39;49m\u001B[43mkeepdims\u001B[49m\n\u001B[1;32m    575\u001B[0m \u001B[43m\u001B[49m\u001B[43m)\u001B[49m\n\u001B[1;32m    576\u001B[0m \u001B[38;5;28;01mreturn\u001B[39;00m tf\u001B[38;5;241m.\u001B[39mcast(output, result_dtype)\n",
      "File \u001B[0;32m~/PycharmProjects/nn-anomaly-detection/.venv/lib/python3.10/site-packages/tensorflow/python/ops/weak_tensor_ops.py:88\u001B[0m, in \u001B[0;36mweak_tensor_unary_op_wrapper.<locals>.wrapper\u001B[0;34m(*args, **kwargs)\u001B[0m\n\u001B[1;32m     86\u001B[0m \u001B[38;5;28;01mdef\u001B[39;00m \u001B[38;5;21mwrapper\u001B[39m(\u001B[38;5;241m*\u001B[39margs, \u001B[38;5;241m*\u001B[39m\u001B[38;5;241m*\u001B[39mkwargs):\n\u001B[1;32m     87\u001B[0m   \u001B[38;5;28;01mif\u001B[39;00m \u001B[38;5;129;01mnot\u001B[39;00m ops\u001B[38;5;241m.\u001B[39mis_auto_dtype_conversion_enabled():\n\u001B[0;32m---> 88\u001B[0m     \u001B[38;5;28;01mreturn\u001B[39;00m \u001B[43mop\u001B[49m\u001B[43m(\u001B[49m\u001B[38;5;241;43m*\u001B[39;49m\u001B[43margs\u001B[49m\u001B[43m,\u001B[49m\u001B[43m \u001B[49m\u001B[38;5;241;43m*\u001B[39;49m\u001B[38;5;241;43m*\u001B[39;49m\u001B[43mkwargs\u001B[49m\u001B[43m)\u001B[49m\n\u001B[1;32m     89\u001B[0m   bound_arguments \u001B[38;5;241m=\u001B[39m signature\u001B[38;5;241m.\u001B[39mbind(\u001B[38;5;241m*\u001B[39margs, \u001B[38;5;241m*\u001B[39m\u001B[38;5;241m*\u001B[39mkwargs)\n\u001B[1;32m     90\u001B[0m   bound_arguments\u001B[38;5;241m.\u001B[39mapply_defaults()\n",
      "File \u001B[0;32m~/PycharmProjects/nn-anomaly-detection/.venv/lib/python3.10/site-packages/tensorflow/python/util/traceback_utils.py:150\u001B[0m, in \u001B[0;36mfilter_traceback.<locals>.error_handler\u001B[0;34m(*args, **kwargs)\u001B[0m\n\u001B[1;32m    148\u001B[0m filtered_tb \u001B[38;5;241m=\u001B[39m \u001B[38;5;28;01mNone\u001B[39;00m\n\u001B[1;32m    149\u001B[0m \u001B[38;5;28;01mtry\u001B[39;00m:\n\u001B[0;32m--> 150\u001B[0m   \u001B[38;5;28;01mreturn\u001B[39;00m \u001B[43mfn\u001B[49m\u001B[43m(\u001B[49m\u001B[38;5;241;43m*\u001B[39;49m\u001B[43margs\u001B[49m\u001B[43m,\u001B[49m\u001B[43m \u001B[49m\u001B[38;5;241;43m*\u001B[39;49m\u001B[38;5;241;43m*\u001B[39;49m\u001B[43mkwargs\u001B[49m\u001B[43m)\u001B[49m\n\u001B[1;32m    151\u001B[0m \u001B[38;5;28;01mexcept\u001B[39;00m \u001B[38;5;167;01mException\u001B[39;00m \u001B[38;5;28;01mas\u001B[39;00m e:\n\u001B[1;32m    152\u001B[0m   filtered_tb \u001B[38;5;241m=\u001B[39m _process_traceback_frames(e\u001B[38;5;241m.\u001B[39m__traceback__)\n",
      "File \u001B[0;32m~/PycharmProjects/nn-anomaly-detection/.venv/lib/python3.10/site-packages/tensorflow/python/util/dispatch.py:1260\u001B[0m, in \u001B[0;36madd_dispatch_support.<locals>.decorator.<locals>.op_dispatch_handler\u001B[0;34m(*args, **kwargs)\u001B[0m\n\u001B[1;32m   1258\u001B[0m \u001B[38;5;66;03m# Fallback dispatch system (dispatch v1):\u001B[39;00m\n\u001B[1;32m   1259\u001B[0m \u001B[38;5;28;01mtry\u001B[39;00m:\n\u001B[0;32m-> 1260\u001B[0m   \u001B[38;5;28;01mreturn\u001B[39;00m \u001B[43mdispatch_target\u001B[49m\u001B[43m(\u001B[49m\u001B[38;5;241;43m*\u001B[39;49m\u001B[43margs\u001B[49m\u001B[43m,\u001B[49m\u001B[43m \u001B[49m\u001B[38;5;241;43m*\u001B[39;49m\u001B[38;5;241;43m*\u001B[39;49m\u001B[43mkwargs\u001B[49m\u001B[43m)\u001B[49m\n\u001B[1;32m   1261\u001B[0m \u001B[38;5;28;01mexcept\u001B[39;00m (\u001B[38;5;167;01mTypeError\u001B[39;00m, \u001B[38;5;167;01mValueError\u001B[39;00m):\n\u001B[1;32m   1262\u001B[0m   \u001B[38;5;66;03m# Note: convert_to_eager_tensor currently raises a ValueError, not a\u001B[39;00m\n\u001B[1;32m   1263\u001B[0m   \u001B[38;5;66;03m# TypeError, when given unexpected types.  So we need to catch both.\u001B[39;00m\n\u001B[1;32m   1264\u001B[0m   result \u001B[38;5;241m=\u001B[39m dispatch(op_dispatch_handler, args, kwargs)\n",
      "File \u001B[0;32m~/PycharmProjects/nn-anomaly-detection/.venv/lib/python3.10/site-packages/tensorflow/python/ops/math_ops.py:2572\u001B[0m, in \u001B[0;36mreduce_mean\u001B[0;34m(input_tensor, axis, keepdims, name)\u001B[0m\n\u001B[1;32m   2520\u001B[0m \u001B[38;5;250m\u001B[39m\u001B[38;5;124;03m\"\"\"Computes the mean of elements across dimensions of a tensor.\u001B[39;00m\n\u001B[1;32m   2521\u001B[0m \n\u001B[1;32m   2522\u001B[0m \u001B[38;5;124;03mReduces `input_tensor` along the dimensions given in `axis` by computing the\u001B[39;00m\n\u001B[0;32m   (...)\u001B[0m\n\u001B[1;32m   2567\u001B[0m \u001B[38;5;124;03m@end_compatibility\u001B[39;00m\n\u001B[1;32m   2568\u001B[0m \u001B[38;5;124;03m\"\"\"\u001B[39;00m\n\u001B[1;32m   2569\u001B[0m keepdims \u001B[38;5;241m=\u001B[39m \u001B[38;5;28;01mFalse\u001B[39;00m \u001B[38;5;28;01mif\u001B[39;00m keepdims \u001B[38;5;129;01mis\u001B[39;00m \u001B[38;5;28;01mNone\u001B[39;00m \u001B[38;5;28;01melse\u001B[39;00m \u001B[38;5;28mbool\u001B[39m(keepdims)\n\u001B[1;32m   2570\u001B[0m \u001B[38;5;28;01mreturn\u001B[39;00m _may_reduce_to_scalar(\n\u001B[1;32m   2571\u001B[0m     keepdims, axis,\n\u001B[0;32m-> 2572\u001B[0m     \u001B[43mgen_math_ops\u001B[49m\u001B[38;5;241;43m.\u001B[39;49m\u001B[43mmean\u001B[49m\u001B[43m(\u001B[49m\n\u001B[1;32m   2573\u001B[0m \u001B[43m        \u001B[49m\u001B[43minput_tensor\u001B[49m\u001B[43m,\u001B[49m\u001B[43m \u001B[49m\u001B[43m_ReductionDims\u001B[49m\u001B[43m(\u001B[49m\u001B[43minput_tensor\u001B[49m\u001B[43m,\u001B[49m\u001B[43m \u001B[49m\u001B[43maxis\u001B[49m\u001B[43m)\u001B[49m\u001B[43m,\u001B[49m\u001B[43m \u001B[49m\u001B[43mkeepdims\u001B[49m\u001B[43m,\u001B[49m\n\u001B[1;32m   2574\u001B[0m \u001B[43m        \u001B[49m\u001B[43mname\u001B[49m\u001B[38;5;241;43m=\u001B[39;49m\u001B[43mname\u001B[49m\u001B[43m)\u001B[49m)\n",
      "File \u001B[0;32m~/PycharmProjects/nn-anomaly-detection/.venv/lib/python3.10/site-packages/tensorflow/python/ops/gen_math_ops.py:6517\u001B[0m, in \u001B[0;36mmean\u001B[0;34m(input, axis, keep_dims, name)\u001B[0m\n\u001B[1;32m   6515\u001B[0m   \u001B[38;5;28;01mpass\u001B[39;00m\n\u001B[1;32m   6516\u001B[0m \u001B[38;5;28;01mtry\u001B[39;00m:\n\u001B[0;32m-> 6517\u001B[0m   \u001B[38;5;28;01mreturn\u001B[39;00m \u001B[43mmean_eager_fallback\u001B[49m\u001B[43m(\u001B[49m\n\u001B[1;32m   6518\u001B[0m \u001B[43m      \u001B[49m\u001B[38;5;28;43minput\u001B[39;49m\u001B[43m,\u001B[49m\u001B[43m \u001B[49m\u001B[43maxis\u001B[49m\u001B[43m,\u001B[49m\u001B[43m \u001B[49m\u001B[43mkeep_dims\u001B[49m\u001B[38;5;241;43m=\u001B[39;49m\u001B[43mkeep_dims\u001B[49m\u001B[43m,\u001B[49m\u001B[43m \u001B[49m\u001B[43mname\u001B[49m\u001B[38;5;241;43m=\u001B[39;49m\u001B[43mname\u001B[49m\u001B[43m,\u001B[49m\u001B[43m \u001B[49m\u001B[43mctx\u001B[49m\u001B[38;5;241;43m=\u001B[39;49m\u001B[43m_ctx\u001B[49m\u001B[43m)\u001B[49m\n\u001B[1;32m   6519\u001B[0m \u001B[38;5;28;01mexcept\u001B[39;00m _core\u001B[38;5;241m.\u001B[39m_SymbolicException:\n\u001B[1;32m   6520\u001B[0m   \u001B[38;5;28;01mpass\u001B[39;00m  \u001B[38;5;66;03m# Add nodes to the TensorFlow graph.\u001B[39;00m\n",
      "File \u001B[0;32m~/PycharmProjects/nn-anomaly-detection/.venv/lib/python3.10/site-packages/tensorflow/python/ops/gen_math_ops.py:6549\u001B[0m, in \u001B[0;36mmean_eager_fallback\u001B[0;34m(input, axis, keep_dims, name, ctx)\u001B[0m\n\u001B[1;32m   6547\u001B[0m _inputs_flat \u001B[38;5;241m=\u001B[39m [\u001B[38;5;28minput\u001B[39m, axis]\n\u001B[1;32m   6548\u001B[0m _attrs \u001B[38;5;241m=\u001B[39m (\u001B[38;5;124m\"\u001B[39m\u001B[38;5;124mkeep_dims\u001B[39m\u001B[38;5;124m\"\u001B[39m, keep_dims, \u001B[38;5;124m\"\u001B[39m\u001B[38;5;124mT\u001B[39m\u001B[38;5;124m\"\u001B[39m, _attr_T, \u001B[38;5;124m\"\u001B[39m\u001B[38;5;124mTidx\u001B[39m\u001B[38;5;124m\"\u001B[39m, _attr_Tidx)\n\u001B[0;32m-> 6549\u001B[0m _result \u001B[38;5;241m=\u001B[39m \u001B[43m_execute\u001B[49m\u001B[38;5;241;43m.\u001B[39;49m\u001B[43mexecute\u001B[49m\u001B[43m(\u001B[49m\u001B[38;5;124;43mb\u001B[39;49m\u001B[38;5;124;43m\"\u001B[39;49m\u001B[38;5;124;43mMean\u001B[39;49m\u001B[38;5;124;43m\"\u001B[39;49m\u001B[43m,\u001B[49m\u001B[43m \u001B[49m\u001B[38;5;241;43m1\u001B[39;49m\u001B[43m,\u001B[49m\u001B[43m \u001B[49m\u001B[43minputs\u001B[49m\u001B[38;5;241;43m=\u001B[39;49m\u001B[43m_inputs_flat\u001B[49m\u001B[43m,\u001B[49m\u001B[43m \u001B[49m\u001B[43mattrs\u001B[49m\u001B[38;5;241;43m=\u001B[39;49m\u001B[43m_attrs\u001B[49m\u001B[43m,\u001B[49m\n\u001B[1;32m   6550\u001B[0m \u001B[43m                           \u001B[49m\u001B[43mctx\u001B[49m\u001B[38;5;241;43m=\u001B[39;49m\u001B[43mctx\u001B[49m\u001B[43m,\u001B[49m\u001B[43m \u001B[49m\u001B[43mname\u001B[49m\u001B[38;5;241;43m=\u001B[39;49m\u001B[43mname\u001B[49m\u001B[43m)\u001B[49m\n\u001B[1;32m   6551\u001B[0m \u001B[38;5;28;01mif\u001B[39;00m _execute\u001B[38;5;241m.\u001B[39mmust_record_gradient():\n\u001B[1;32m   6552\u001B[0m   _execute\u001B[38;5;241m.\u001B[39mrecord_gradient(\n\u001B[1;32m   6553\u001B[0m       \u001B[38;5;124m\"\u001B[39m\u001B[38;5;124mMean\u001B[39m\u001B[38;5;124m\"\u001B[39m, _inputs_flat, _attrs, _result)\n",
      "File \u001B[0;32m~/PycharmProjects/nn-anomaly-detection/.venv/lib/python3.10/site-packages/tensorflow/python/eager/execute.py:53\u001B[0m, in \u001B[0;36mquick_execute\u001B[0;34m(op_name, num_outputs, inputs, attrs, ctx, name)\u001B[0m\n\u001B[1;32m     51\u001B[0m \u001B[38;5;28;01mtry\u001B[39;00m:\n\u001B[1;32m     52\u001B[0m   ctx\u001B[38;5;241m.\u001B[39mensure_initialized()\n\u001B[0;32m---> 53\u001B[0m   tensors \u001B[38;5;241m=\u001B[39m \u001B[43mpywrap_tfe\u001B[49m\u001B[38;5;241;43m.\u001B[39;49m\u001B[43mTFE_Py_Execute\u001B[49m\u001B[43m(\u001B[49m\u001B[43mctx\u001B[49m\u001B[38;5;241;43m.\u001B[39;49m\u001B[43m_handle\u001B[49m\u001B[43m,\u001B[49m\u001B[43m \u001B[49m\u001B[43mdevice_name\u001B[49m\u001B[43m,\u001B[49m\u001B[43m \u001B[49m\u001B[43mop_name\u001B[49m\u001B[43m,\u001B[49m\n\u001B[1;32m     54\u001B[0m \u001B[43m                                      \u001B[49m\u001B[43minputs\u001B[49m\u001B[43m,\u001B[49m\u001B[43m \u001B[49m\u001B[43mattrs\u001B[49m\u001B[43m,\u001B[49m\u001B[43m \u001B[49m\u001B[43mnum_outputs\u001B[49m\u001B[43m)\u001B[49m\n\u001B[1;32m     55\u001B[0m \u001B[38;5;28;01mexcept\u001B[39;00m core\u001B[38;5;241m.\u001B[39m_NotOkStatusException \u001B[38;5;28;01mas\u001B[39;00m e:\n\u001B[1;32m     56\u001B[0m   \u001B[38;5;28;01mif\u001B[39;00m name \u001B[38;5;129;01mis\u001B[39;00m \u001B[38;5;129;01mnot\u001B[39;00m \u001B[38;5;28;01mNone\u001B[39;00m:\n",
      "\u001B[0;31mKeyboardInterrupt\u001B[0m: "
     ]
    }
   ],
   "execution_count": 1
  },
  {
   "metadata": {},
   "cell_type": "code",
   "outputs": [],
   "execution_count": null,
   "source": [
    "for x, y in train_ds.take(1):\n",
    "    print(\"Input:\", x)\n",
    "    print(\"Target:\", y)"
   ],
   "id": "9071729cc0633ed0"
  }
 ],
 "metadata": {
  "kernelspec": {
   "display_name": "Python 3",
   "language": "python",
   "name": "python3"
  },
  "language_info": {
   "codemirror_mode": {
    "name": "ipython",
    "version": 2
   },
   "file_extension": ".py",
   "mimetype": "text/x-python",
   "name": "python",
   "nbconvert_exporter": "python",
   "pygments_lexer": "ipython2",
   "version": "2.7.6"
  }
 },
 "nbformat": 4,
 "nbformat_minor": 5
}
